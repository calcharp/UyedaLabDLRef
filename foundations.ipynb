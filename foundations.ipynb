{
 "cells": [
  {
   "cell_type": "raw",
   "id": "d19deecd-90d8-40f4-b1de-4e8ca51e8975",
   "metadata": {},
   "source": [
    "---\n",
    "title: \"Foundational Concepts in Deep Learning\"\n",
    "format: \n",
    "    html:\n",
    "        code-fold: true\n",
    "execute:\n",
    "    enabled: true\n",
    "---"
   ]
  },
  {
   "cell_type": "markdown",
   "id": "f3b5f7cc-30af-4212-94d5-e9123e3658b3",
   "metadata": {},
   "source": [
    "## Backpropagation and Gradients"
   ]
  },
  {
   "cell_type": "markdown",
   "id": "9d7b8a0c-aa28-4dc4-99a8-cf247d9734ea",
   "metadata": {},
   "source": [
    "### Learning Rates"
   ]
  },
  {
   "cell_type": "markdown",
   "id": "f2e95e7a-83ae-44e7-a951-d95aeaeb76b5",
   "metadata": {},
   "source": [
    "#### Learning Rate Decay"
   ]
  },
  {
   "cell_type": "markdown",
   "id": "455c1d3a-d54b-47b4-ac09-53ee5617a9f6",
   "metadata": {},
   "source": [
    "## Optimizers"
   ]
  },
  {
   "cell_type": "markdown",
   "id": "2bbe4461-5007-4b4c-9276-9d5531905e1c",
   "metadata": {},
   "source": [
    "### Stochastic Gradient Descent"
   ]
  },
  {
   "cell_type": "markdown",
   "id": "43a2e5be-ea78-4112-b2b5-d0441e766cf2",
   "metadata": {},
   "source": [
    "### Adam Optimization"
   ]
  },
  {
   "cell_type": "markdown",
   "id": "bb963798-81e2-428e-8c05-72f12b8fa3ce",
   "metadata": {},
   "source": [
    "#### Momentum"
   ]
  },
  {
   "cell_type": "markdown",
   "id": "eed78022-4bba-4c5e-bf57-8af0ea3c670f",
   "metadata": {},
   "source": [
    "## Batch Learning"
   ]
  },
  {
   "cell_type": "markdown",
   "id": "5179aaa8-5095-4ac4-9493-0ae47a838b60",
   "metadata": {},
   "source": [
    "## Dropout"
   ]
  }
 ],
 "metadata": {
  "kernelspec": {
   "display_name": "Python 3 (ipykernel)",
   "language": "python",
   "name": "python3"
  },
  "language_info": {
   "codemirror_mode": {
    "name": "ipython",
    "version": 3
   },
   "file_extension": ".py",
   "mimetype": "text/x-python",
   "name": "python",
   "nbconvert_exporter": "python",
   "pygments_lexer": "ipython3",
   "version": "3.10.8"
  }
 },
 "nbformat": 4,
 "nbformat_minor": 5
}
