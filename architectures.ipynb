{
 "cells": [
  {
   "cell_type": "raw",
   "id": "147d46cd-ceaa-41cf-9273-2a3584b9dda1",
   "metadata": {},
   "source": [
    "---\n",
    "title: \"Neural Network Architectures\"\n",
    "format: \n",
    "    html:\n",
    "        code-fold: true\n",
    "execute:\n",
    "    enabled: true\n",
    "---"
   ]
  },
  {
   "cell_type": "markdown",
   "id": "5661ab06-c272-4a7f-8456-f7e3d7fd4269",
   "metadata": {},
   "source": [
    "## Understanding Architectures"
   ]
  },
  {
   "cell_type": "markdown",
   "id": "03ef3d7f-8bc2-472f-a414-996613b5db97",
   "metadata": {},
   "source": [
    "## Convolutional Networks"
   ]
  },
  {
   "cell_type": "markdown",
   "id": "f787f783-f9ce-4324-bcbc-b00ca431f77e",
   "metadata": {},
   "source": [
    "## Recurrent Networks"
   ]
  },
  {
   "cell_type": "markdown",
   "id": "4bc397c6-be05-4e22-ad8f-75ba24ccfff2",
   "metadata": {},
   "source": [
    "## LSTMs and GRUs"
   ]
  },
  {
   "cell_type": "markdown",
   "id": "13cf58c9-087f-488b-bf20-8fb3b58094fa",
   "metadata": {},
   "source": [
    "## Self-Attention and Transformers"
   ]
  },
  {
   "cell_type": "markdown",
   "id": "78054d62-e8ea-43a3-bb97-a18674a58914",
   "metadata": {},
   "source": [
    "### Axial Transformers"
   ]
  }
 ],
 "metadata": {
  "kernelspec": {
   "display_name": "Python 3 (ipykernel)",
   "language": "python",
   "name": "python3"
  },
  "language_info": {
   "codemirror_mode": {
    "name": "ipython",
    "version": 3
   },
   "file_extension": ".py",
   "mimetype": "text/x-python",
   "name": "python",
   "nbconvert_exporter": "python",
   "pygments_lexer": "ipython3",
   "version": "3.10.8"
  }
 },
 "nbformat": 4,
 "nbformat_minor": 5
}
