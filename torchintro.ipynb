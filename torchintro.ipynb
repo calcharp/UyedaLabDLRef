{
 "cells": [
  {
   "cell_type": "raw",
   "id": "0d1c18fd-0e6b-4920-9b9c-00018f5344b2",
   "metadata": {},
   "source": [
    "---\n",
    "title: \"Introduction to PyTorch\"\n",
    "format: \n",
    "    html:\n",
    "        code-fold: true\n",
    "execute:\n",
    "    enabled: true\n",
    "---"
   ]
  },
  {
   "cell_type": "markdown",
   "id": "28e0c271-9bc8-4be5-b87f-db87a621bd56",
   "metadata": {},
   "source": [
    "## We've Made It\n",
    "\n",
    "**It's time to learn PyTorch.**\n",
    "\n",
    "As of 2023, PyTorch is the most common framework for implementing deep learning models in scientific papers. It integrates naturally\n",
    "with other Python packages such as Numpy, Pandas, and Matplotlib, and makes backpropagation both easy to implement and flexible enough to \n",
    "create complex learning models.\n",
    "\n",
    "As a side note, because neural networks are ultimately graphical models, I find some PyTorch concepts vaguely analogous to model implementation \n",
    "in RevBayes. If you are proficient in RevBayes, approaching the package with this mindset may or may not be helpful for you. Nevertheless, none of it\n",
    "will be very useful if you don't understand the concepts we've discussed so far.\n",
    "\n",
    "In this chapter, I'm to give an overview of important PyTorch concepts. We will discuss objects, modules, and functions in the packages, and \n",
    "finally how to combine them to train neural networks of your own. Most of the code here is either taken directly from the PyTorch [documentation](https://pytorch.org/docs/stable/index.html), or comes from this [Udemy Course](https://www.udemy.com/course/the-complete-neural-networks-bootcamp-theory-applications/) by Fawaz Sammani.\n",
    "\n",
    "\n"
   ]
  }
 ],
 "metadata": {
  "kernelspec": {
   "display_name": "Python 3 (ipykernel)",
   "language": "python",
   "name": "python3"
  },
  "language_info": {
   "codemirror_mode": {
    "name": "ipython",
    "version": 3
   },
   "file_extension": ".py",
   "mimetype": "text/x-python",
   "name": "python",
   "nbconvert_exporter": "python",
   "pygments_lexer": "ipython3",
   "version": "3.10.8"
  }
 },
 "nbformat": 4,
 "nbformat_minor": 5
}
